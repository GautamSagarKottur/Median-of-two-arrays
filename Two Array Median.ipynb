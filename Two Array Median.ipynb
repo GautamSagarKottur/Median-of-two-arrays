{
 "cells": [
  {
   "cell_type": "code",
   "execution_count": 1,
   "metadata": {},
   "outputs": [],
   "source": [
    "def two_array_median(a,b):\n",
    "    x = sorted(a+b)\n",
    "    if len(x)>1 and len(x)%2!=0:\n",
    "        for i in range(1,len(x)-1):\n",
    "            if x.index(x[i]) - x.index(x[0]) == x.index(x[len(x)-1]) -  x.index(x[i]):\n",
    "                return x[i]\n",
    "    if len(x)>1 and len(x)%2==0:\n",
    "        for i in range(1,len(x)-1):\n",
    "            if x.index(x[i]) - x.index(x[0]) == x.index(x[len(x)-1]) -  x.index(x[i+1]):\n",
    "                return print((x[i],x[i+1]),(x[i]+x[i+1])/2)      "
   ]
  },
  {
   "cell_type": "code",
   "execution_count": 2,
   "metadata": {},
   "outputs": [
    {
     "data": {
      "text/plain": [
       "3"
      ]
     },
     "execution_count": 2,
     "metadata": {},
     "output_type": "execute_result"
    }
   ],
   "source": [
    "two_array_median([3,5,1],[2,4])"
   ]
  },
  {
   "cell_type": "code",
   "execution_count": 3,
   "metadata": {
    "scrolled": true
   },
   "outputs": [
    {
     "name": "stdout",
     "output_type": "stream",
     "text": [
      "(100, 180) 140.0\n"
     ]
    }
   ],
   "source": [
    "two_array_median([100, 180, 260, 310, 40, 535, 695],[1,2,4])"
   ]
  },
  {
   "cell_type": "code",
   "execution_count": 4,
   "metadata": {},
   "outputs": [
    {
     "data": {
      "text/plain": [
       "50"
      ]
     },
     "execution_count": 4,
     "metadata": {},
     "output_type": "execute_result"
    }
   ],
   "source": [
    "two_array_median([90, 80, 70, 60, 50],[100, 30, 15, 10, 8, 25])"
   ]
  },
  {
   "cell_type": "code",
   "execution_count": null,
   "metadata": {},
   "outputs": [],
   "source": []
  }
 ],
 "metadata": {
  "kernelspec": {
   "display_name": "Python 3",
   "language": "python",
   "name": "python3"
  },
  "language_info": {
   "codemirror_mode": {
    "name": "ipython",
    "version": 3
   },
   "file_extension": ".py",
   "mimetype": "text/x-python",
   "name": "python",
   "nbconvert_exporter": "python",
   "pygments_lexer": "ipython3",
   "version": "3.7.6"
  }
 },
 "nbformat": 4,
 "nbformat_minor": 2
}
